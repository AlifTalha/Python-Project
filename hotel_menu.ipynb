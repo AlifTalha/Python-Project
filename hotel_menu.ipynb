{
 "cells": [
  {
   "cell_type": "code",
   "execution_count": 20,
   "id": "67bbccba-542f-4cbb-9c22-50b2f4432765",
   "metadata": {},
   "outputs": [
    {
     "name": "stdout",
     "output_type": "stream",
     "text": [
      "*********************************\n",
      "   Welcome to Talha's Restaurant!!    \n",
      "*********************************\n",
      "Here is the menu:\n",
      "Pizza: $40\n",
      "Pasta: $50\n",
      "Burger: $60\n",
      "Salad: $20\n",
      "Coffee: $80\n",
      "*********************************\n"
     ]
    },
    {
     "name": "stdin",
     "output_type": "stream",
     "text": [
      "Enter the name of the first item you want to order:  pizza\n"
     ]
    },
    {
     "name": "stdout",
     "output_type": "stream",
     "text": [
      "Pizza has been added to your order.\n"
     ]
    },
    {
     "name": "stdin",
     "output_type": "stream",
     "text": [
      "Enter the name of the second item you want to order:  coffee\n"
     ]
    },
    {
     "name": "stdout",
     "output_type": "stream",
     "text": [
      "Coffee has been added to your order.\n",
      "*********************************\n",
      "The total amount for your order is: $120\n",
      "*********************************\n",
      "Thank you for ordering! Have a great day.\n"
     ]
    }
   ],
   "source": [
    "menu = {'Pizza': 40,\n",
    "        'Pasta': 50,\n",
    "        'Burger': 60,\n",
    "        'Salad': 20,\n",
    "        'Coffee': 80}\n",
    "\n",
    "print(\"*********************************\")\n",
    "print(\"   Welcome to Talha's Restaurant!!    \")\n",
    "print(\"*********************************\")\n",
    "print(\"Here is the menu:\")\n",
    "for item, price in menu.items():\n",
    "    print(f\"{item}: ${price}\")\n",
    "\n",
    "order_total = 0\n",
    "\n",
    "print(\"*********************************\")\n",
    "item_1 = input(\"Enter the name of the first item you want to order: \").capitalize()\n",
    "if item_1 in menu:\n",
    "    order_total += menu[item_1]\n",
    "    print(f\"{item_1} has been added to your order.\")\n",
    "else:\n",
    "    print(f\"Sorry, {item_1} is not available on the menu.\")\n",
    "\n",
    "item_2 = input(\"Enter the name of the second item you want to order: \").capitalize()\n",
    "if item_2 in menu:\n",
    "    order_total += menu[item_2]\n",
    "    print(f\"{item_2} has been added to your order.\")\n",
    "else:\n",
    "    print(f\"Sorry, {item_2} is not available on the menu.\")\n",
    "    \n",
    "print(\"*********************************\")\n",
    "print(f\"The total amount for your order is: ${order_total}\")\n",
    "print(\"*********************************\")\n",
    "print(\"Thank you for ordering! Have a great day.\")"
   ]
  }
 ],
 "metadata": {
  "kernelspec": {
   "display_name": "Python 3 (ipykernel)",
   "language": "python",
   "name": "python3"
  },
  "language_info": {
   "codemirror_mode": {
    "name": "ipython",
    "version": 3
   },
   "file_extension": ".py",
   "mimetype": "text/x-python",
   "name": "python",
   "nbconvert_exporter": "python",
   "pygments_lexer": "ipython3",
   "version": "3.12.5"
  }
 },
 "nbformat": 4,
 "nbformat_minor": 5
}
