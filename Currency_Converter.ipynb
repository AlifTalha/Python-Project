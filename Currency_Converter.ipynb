{
 "cells": [
  {
   "cell_type": "code",
   "execution_count": 4,
   "id": "8fe4c3eb-6577-4883-808f-fa4fbf2525f0",
   "metadata": {},
   "outputs": [
    {
     "name": "stdout",
     "output_type": "stream",
     "text": [
      "Welcome to the Currency Converter!\n",
      "********************************\n",
      "********************************\n",
      "Select a currency from the list:\n",
      "1. BDT\n",
      "2. USD\n",
      "3. INR\n",
      "4. JPY\n",
      "5. CNY\n",
      "6. NPR\n",
      "7. GBP\n"
     ]
    },
    {
     "name": "stdin",
     "output_type": "stream",
     "text": [
      "Enter the number corresponding to the currency:  1\n"
     ]
    },
    {
     "name": "stdout",
     "output_type": "stream",
     "text": [
      "********************************\n",
      "Select a currency from the list:\n",
      "1. BDT\n",
      "2. USD\n",
      "3. INR\n",
      "4. JPY\n",
      "5. CNY\n",
      "6. NPR\n",
      "7. GBP\n"
     ]
    },
    {
     "name": "stdin",
     "output_type": "stream",
     "text": [
      "Enter the number corresponding to the currency:  3\n"
     ]
    },
    {
     "name": "stdout",
     "output_type": "stream",
     "text": [
      "********************************\n"
     ]
    },
    {
     "name": "stdin",
     "output_type": "stream",
     "text": [
      "Enter the amount you want to convert:  100\n"
     ]
    },
    {
     "name": "stdout",
     "output_type": "stream",
     "text": [
      "100.0 BDT is equal to 76.00 INR\n",
      "Thank You !!!\n"
     ]
    }
   ],
   "source": [
    "# Currency Converter\n",
    "exchange_rates = {\n",
    "    'BDT': {'USD': 0.0091, 'INR': 0.76, 'JPY': 1.34, 'CNY': 0.066, 'NPR': 1.17, 'GBP': 0.0073},\n",
    "    'USD': {'BDT': 109.9},\n",
    "    'INR': {'BDT': 1.32},\n",
    "    'JPY': {'BDT': 0.75},\n",
    "    'CNY': {'BDT': 15.12},\n",
    "    'NPR': {'BDT': 0.86},\n",
    "    'GBP': {'BDT': 137.0},\n",
    "}\n",
    "\n",
    "country_codes = {\n",
    "    1: 'BDT',  # Bangladesh\n",
    "    2: 'USD',  # USA\n",
    "    3: 'INR',  # India\n",
    "    4: 'JPY',  # Japan\n",
    "    5: 'CNY',  # China\n",
    "    6: 'NPR',  # Nepal\n",
    "    7: 'GBP',  # UK\n",
    "}\n",
    "\n",
    "def display_countries():\n",
    "    print(\"********************************\")\n",
    "    print(\"Select a currency from the list:\")\n",
    "    for code, currency in country_codes.items():\n",
    "        print(f\"{code}. {currency}\")\n",
    "\n",
    "def get_currency_selection():\n",
    "    while True:\n",
    "        try:\n",
    "            selection = int(input(\"Enter the number corresponding to the currency: \"))\n",
    "            if selection in country_codes:\n",
    "                return country_codes[selection]\n",
    "            else:\n",
    "                print(\"Invalid selection. Please enter a number from the list.\")\n",
    "        except ValueError:\n",
    "            print(\"Invalid input. Please enter a numeric value.\")\n",
    "\n",
    "def get_amount_input(prompt):\n",
    "    while True:\n",
    "        try:\n",
    "            amount = float(input(prompt))\n",
    "            if amount < 0:\n",
    "                print(\"Amount should be a positive number.\")\n",
    "            else:\n",
    "                return amount\n",
    "        except ValueError:\n",
    "            print(\"Invalid amount. Please enter a numeric value.\")\n",
    "\n",
    "def convert_currency(amount, from_currency, to_currency):\n",
    "    \n",
    "    if from_currency in exchange_rates and to_currency in exchange_rates[from_currency]:\n",
    "        rate = exchange_rates[from_currency][to_currency]\n",
    "        converted_amount = amount * rate\n",
    "        return converted_amount\n",
    "    else:\n",
    "        print(f\"Conversion rate from {from_currency} to {to_currency} is not available.\")\n",
    "        return None\n",
    "\n",
    "\n",
    "print(\"Welcome to the Currency Converter!\")\n",
    "print(\"********************************\")\n",
    "\n",
    "\n",
    "display_countries()\n",
    "from_currency = get_currency_selection()\n",
    "\n",
    "\n",
    "display_countries()\n",
    "to_currency = get_currency_selection()\n",
    "\n",
    "print(\"********************************\")\n",
    "amount = get_amount_input(\"Enter the amount you want to convert: \")\n",
    "\n",
    "\n",
    "converted_amount = convert_currency(amount, from_currency, to_currency)\n",
    "\n",
    "\n",
    "if converted_amount is not None:\n",
    "    print(f\"{amount} {from_currency} is equal to {converted_amount:.2f} {to_currency}\")\n",
    "\n",
    "print(\"Thank You !!!\")\n"
   ]
  }
 ],
 "metadata": {
  "kernelspec": {
   "display_name": "Python 3 (ipykernel)",
   "language": "python",
   "name": "python3"
  },
  "language_info": {
   "codemirror_mode": {
    "name": "ipython",
    "version": 3
   },
   "file_extension": ".py",
   "mimetype": "text/x-python",
   "name": "python",
   "nbconvert_exporter": "python",
   "pygments_lexer": "ipython3",
   "version": "3.12.5"
  }
 },
 "nbformat": 4,
 "nbformat_minor": 5
}
