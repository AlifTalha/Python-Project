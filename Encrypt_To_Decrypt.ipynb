{
 "cells": [
  {
   "cell_type": "code",
   "execution_count": 1,
   "id": "c543db97-c4d1-498c-aeea-05cba917a7f8",
   "metadata": {},
   "outputs": [
    {
     "name": "stdin",
     "output_type": "stream",
     "text": [
      "Enter a message to encrypt:  Alif Hossain Talha\n"
     ]
    },
    {
     "name": "stdout",
     "output_type": "stream",
     "text": [
      "Original text  : Alif Hossain Talha\n",
      "Encrypted text : WI8q 3_::f8j HfI;f\n"
     ]
    },
    {
     "name": "stdin",
     "output_type": "stream",
     "text": [
      "Enter a message to decrypt:  WI8q 3_::f8j HfI;f\n"
     ]
    },
    {
     "name": "stdout",
     "output_type": "stream",
     "text": [
      "Encrypted text : WI8q 3_::f8j HfI;f\n",
      "Original text  : Alif Hossain Talha\n"
     ]
    }
   ],
   "source": [
    "import random\n",
    "import string\n",
    "\n",
    "chars = string.punctuation + string.digits + string.ascii_letters\n",
    "chars = list(chars)\n",
    "key = chars.copy()\n",
    "\n",
    "random.shuffle(key)\n",
    "\n",
    "# Encrypt\n",
    "plain_text = input(\"Enter a message to encrypt: \")\n",
    "cipher_text = \"\"\n",
    "\n",
    "for letter in plain_text:\n",
    "    if letter in chars:\n",
    "        index = chars.index(letter)\n",
    "        cipher_text += key[index]\n",
    "    else:\n",
    "        cipher_text += letter\n",
    "\n",
    "print(f\"Original text  : {plain_text}\")\n",
    "print(f\"Encrypted text : {cipher_text}\")\n",
    "\n",
    "# Decrypt\n",
    "cipher_text = input(\"Enter a message to decrypt: \")\n",
    "plain_text = \"\"\n",
    "\n",
    "for letter in cipher_text:\n",
    "    if letter in key:\n",
    "        index = key.index(letter)\n",
    "        plain_text += chars[index]\n",
    "    else:\n",
    "        plain_text += letter\n",
    "\n",
    "print(f\"Encrypted text : {cipher_text}\")\n",
    "print(f\"Original text  : {plain_text}\")\n"
   ]
  }
 ],
 "metadata": {
  "kernelspec": {
   "display_name": "Python 3 (ipykernel)",
   "language": "python",
   "name": "python3"
  },
  "language_info": {
   "codemirror_mode": {
    "name": "ipython",
    "version": 3
   },
   "file_extension": ".py",
   "mimetype": "text/x-python",
   "name": "python",
   "nbconvert_exporter": "python",
   "pygments_lexer": "ipython3",
   "version": "3.12.5"
  }
 },
 "nbformat": 4,
 "nbformat_minor": 5
}
