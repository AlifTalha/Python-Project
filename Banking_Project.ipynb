{
 "cells": [
  {
   "cell_type": "code",
   "execution_count": 9,
   "id": "bd48e4ac-5718-4680-b277-63c067ff9242",
   "metadata": {},
   "outputs": [
    {
     "name": "stdout",
     "output_type": "stream",
     "text": [
      "************************\n",
      "     Banking Program    \n",
      "************************\n",
      "1. Show Balance\n",
      "2. Deposit\n",
      "3. Withdraw\n",
      "4. Exit\n",
      "************************\n"
     ]
    },
    {
     "name": "stdin",
     "output_type": "stream",
     "text": [
      "Enter your choice (1-4):  1\n"
     ]
    },
    {
     "name": "stdout",
     "output_type": "stream",
     "text": [
      "************************\n",
      "Your balance is $0.00\n",
      "************************\n",
      "************************\n",
      "     Banking Program    \n",
      "************************\n",
      "1. Show Balance\n",
      "2. Deposit\n",
      "3. Withdraw\n",
      "4. Exit\n",
      "************************\n"
     ]
    },
    {
     "name": "stdin",
     "output_type": "stream",
     "text": [
      "Enter your choice (1-4):  2\n"
     ]
    },
    {
     "name": "stdout",
     "output_type": "stream",
     "text": [
      "************************\n"
     ]
    },
    {
     "name": "stdin",
     "output_type": "stream",
     "text": [
      "Enter an amount to be deposited:  100\n"
     ]
    },
    {
     "name": "stdout",
     "output_type": "stream",
     "text": [
      "************************\n",
      "************************\n",
      "     Banking Program    \n",
      "************************\n",
      "1. Show Balance\n",
      "2. Deposit\n",
      "3. Withdraw\n",
      "4. Exit\n",
      "************************\n"
     ]
    },
    {
     "name": "stdin",
     "output_type": "stream",
     "text": [
      "Enter your choice (1-4):  1\n"
     ]
    },
    {
     "name": "stdout",
     "output_type": "stream",
     "text": [
      "************************\n",
      "Your balance is $100.00\n",
      "************************\n",
      "************************\n",
      "     Banking Program    \n",
      "************************\n",
      "1. Show Balance\n",
      "2. Deposit\n",
      "3. Withdraw\n",
      "4. Exit\n",
      "************************\n"
     ]
    },
    {
     "name": "stdin",
     "output_type": "stream",
     "text": [
      "Enter your choice (1-4):  3\n"
     ]
    },
    {
     "name": "stdout",
     "output_type": "stream",
     "text": [
      "************************\n"
     ]
    },
    {
     "name": "stdin",
     "output_type": "stream",
     "text": [
      "Enter amount to be withdraw :  40\n"
     ]
    },
    {
     "name": "stdout",
     "output_type": "stream",
     "text": [
      "************************\n",
      "************************\n",
      "     Banking Program    \n",
      "************************\n",
      "1. Show Balance\n",
      "2. Deposit\n",
      "3. Withdraw\n",
      "4. Exit\n",
      "************************\n"
     ]
    },
    {
     "name": "stdin",
     "output_type": "stream",
     "text": [
      "Enter your choice (1-4):  1\n"
     ]
    },
    {
     "name": "stdout",
     "output_type": "stream",
     "text": [
      "************************\n",
      "Your balance is $60.00\n",
      "************************\n",
      "************************\n",
      "     Banking Program    \n",
      "************************\n",
      "1. Show Balance\n",
      "2. Deposit\n",
      "3. Withdraw\n",
      "4. Exit\n",
      "************************\n"
     ]
    },
    {
     "name": "stdin",
     "output_type": "stream",
     "text": [
      "Enter your choice (1-4):  4\n"
     ]
    },
    {
     "name": "stdout",
     "output_type": "stream",
     "text": [
      "Thank you! Have a fine Day...\n",
      "************************\n"
     ]
    }
   ],
   "source": [
    "# Banking Project\n",
    "\n",
    "def show_balance():\n",
    "    print(\"************************\")\n",
    "    print(f\"Your balance is ${balance:.2f}\")\n",
    "    print(\"************************\")\n",
    "\n",
    "def deposit():\n",
    "    print(\"************************\")\n",
    "    amount =float(input(\"Enter an amount to be deposited: \"))\n",
    "    print(\"************************\")\n",
    "    if amount < 0:\n",
    "        print(\"That's not a valid amount\")\n",
    "        return 0\n",
    "    else:\n",
    "        return amount\n",
    "\n",
    "def withdraw():\n",
    "    print(\"************************\")\n",
    "    amount = float(input(\"Enter amount to be withdraw : \"))\n",
    "    print(\"************************\")\n",
    "    if amount > balance:\n",
    "        print(\"************************\")\n",
    "        print(\"Insufficient Balance!!\")\n",
    "        print(\"************************\")\n",
    "        return 0\n",
    "    elif amount < 0:\n",
    "        print(\"************************\")\n",
    "        print(\"Amount must be greater than 0\")\n",
    "        print(\"************************\")\n",
    "        return 0\n",
    "    else:\n",
    "        return amount\n",
    "\n",
    "balance =0\n",
    "is_running = True\n",
    "\n",
    "while is_running:\n",
    "    print(\"************************\")\n",
    "    print(\"     Banking Program    \")\n",
    "    print(\"************************\")\n",
    "    print(\"1. Show Balance\")\n",
    "    print(\"2. Deposit\")\n",
    "    print(\"3. Withdraw\")\n",
    "    print(\"4. Exit\")\n",
    "    print(\"************************\")\n",
    "\n",
    "    choice = input(\"Enter your choice (1-4): \")\n",
    "    if choice == '1':\n",
    "        show_balance()\n",
    "    elif choice == '2':\n",
    "        balance +=deposit()\n",
    "    elif choice == '3':\n",
    "        balance -=withdraw()\n",
    "    elif choice == '4':\n",
    "        is_running = False\n",
    "    else:\n",
    "        print(\"************************\")\n",
    "        print(\"That is not a valid choice!!\")\n",
    "        print(\"************************\")\n",
    "\n",
    "print(\"Thank you! Have a fine Day...\")\n",
    "print(\"************************\")\n"
   ]
  },
  {
   "cell_type": "code",
   "execution_count": null,
   "id": "2237a56d-1a22-4964-bcbe-5bba22c78863",
   "metadata": {},
   "outputs": [],
   "source": []
  }
 ],
 "metadata": {
  "kernelspec": {
   "display_name": "Python 3 (ipykernel)",
   "language": "python",
   "name": "python3"
  },
  "language_info": {
   "codemirror_mode": {
    "name": "ipython",
    "version": 3
   },
   "file_extension": ".py",
   "mimetype": "text/x-python",
   "name": "python",
   "nbconvert_exporter": "python",
   "pygments_lexer": "ipython3",
   "version": "3.12.5"
  }
 },
 "nbformat": 4,
 "nbformat_minor": 5
}
